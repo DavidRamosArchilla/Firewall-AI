{
  "nbformat": 4,
  "nbformat_minor": 0,
  "metadata": {
    "colab": {
      "provenance": [],
      "collapsed_sections": [
        "PkM_CtHmnw9C"
      ],
      "authorship_tag": "ABX9TyNK1bb58/C8gU/Ur1xem9/o",
      "include_colab_link": true
    },
    "kernelspec": {
      "name": "python3",
      "display_name": "Python 3"
    },
    "language_info": {
      "name": "python"
    }
  },
  "cells": [
    {
      "cell_type": "markdown",
      "metadata": {
        "id": "view-in-github",
        "colab_type": "text"
      },
      "source": [
        "<a href=\"https://colab.research.google.com/github/DavidRamosArchilla/Firewall-AI/blob/main/server_firewall_ai.ipynb\" target=\"_parent\"><img src=\"https://colab.research.google.com/assets/colab-badge.svg\" alt=\"Open In Colab\"/></a>"
      ]
    },
    {
      "cell_type": "markdown",
      "source": [
        "#Installing dependencies"
      ],
      "metadata": {
        "id": "PkM_CtHmnw9C"
      }
    },
    {
      "cell_type": "code",
      "execution_count": 1,
      "metadata": {
        "colab": {
          "base_uri": "https://localhost:8080/"
        },
        "id": "cPqL3PSmlWCQ",
        "outputId": "25897b76-7867-449a-d6e0-eb7ded5b1381"
      },
      "outputs": [
        {
          "output_type": "stream",
          "name": "stdout",
          "text": [
            "\u001b[2K     \u001b[90m━━━━━━━━━━━━━━━━━━━━━━━━━━━━━━━━━━━━━━━━\u001b[0m \u001b[32m2.1/2.1 MB\u001b[0m \u001b[31m13.3 MB/s\u001b[0m eta \u001b[36m0:00:00\u001b[0m\n",
            "\u001b[2K     \u001b[90m━━━━━━━━━━━━━━━━━━━━━━━━━━━━━━━━━━━━━━━━\u001b[0m \u001b[32m61.2/61.2 kB\u001b[0m \u001b[31m455.1 kB/s\u001b[0m eta \u001b[36m0:00:00\u001b[0m\n",
            "\u001b[2K     \u001b[90m━━━━━━━━━━━━━━━━━━━━━━━━━━━━━━━━━━━━━━━━\u001b[0m \u001b[32m60.4/60.4 kB\u001b[0m \u001b[31m2.0 MB/s\u001b[0m eta \u001b[36m0:00:00\u001b[0m\n",
            "\u001b[2K     \u001b[90m━━━━━━━━━━━━━━━━━━━━━━━━━━━━━━━━━━━━━━━━\u001b[0m \u001b[32m1.3/1.3 MB\u001b[0m \u001b[31m19.7 MB/s\u001b[0m eta \u001b[36m0:00:00\u001b[0m\n",
            "\u001b[?25h  Preparing metadata (setup.py) ... \u001b[?25l\u001b[?25hdone\n",
            "\u001b[2K   \u001b[90m━━━━━━━━━━━━━━━━━━━━━━━━━━━━━━━━━━━━━━━━\u001b[0m \u001b[32m18.2/18.2 MB\u001b[0m \u001b[31m42.7 MB/s\u001b[0m eta \u001b[36m0:00:00\u001b[0m\n",
            "\u001b[2K   \u001b[90m━━━━━━━━━━━━━━━━━━━━━━━━━━━━━━━━━━━━━━━━\u001b[0m \u001b[32m36.4/36.4 MB\u001b[0m \u001b[31m17.4 MB/s\u001b[0m eta \u001b[36m0:00:00\u001b[0m\n",
            "\u001b[?25h  Building wheel for scapy (setup.py) ... \u001b[?25l\u001b[?25hdone\n",
            "\u001b[31mERROR: pip's dependency resolver does not currently take into account all the packages that are installed. This behaviour is the source of the following dependency conflicts.\n",
            "lida 0.0.10 requires fastapi, which is not installed.\n",
            "lida 0.0.10 requires kaleido, which is not installed.\n",
            "lida 0.0.10 requires python-multipart, which is not installed.\n",
            "lida 0.0.10 requires uvicorn, which is not installed.\u001b[0m\u001b[31m\n",
            "\u001b[0m\u001b[33mWARNING: Running pip as the 'root' user can result in broken permissions and conflicting behaviour with the system package manager. It is recommended to use a virtual environment instead: https://pip.pypa.io/warnings/venv\u001b[0m\u001b[33m\n",
            "\u001b[0m"
          ]
        }
      ],
      "source": [
        "!pip install -q --upgrade pip\n",
        "!pip install -q pyflowmeter"
      ]
    },
    {
      "cell_type": "code",
      "source": [
        "!git clone https://github.com/DavidRamosArchilla/Firewall-AI.git"
      ],
      "metadata": {
        "colab": {
          "base_uri": "https://localhost:8080/"
        },
        "id": "O2rrCZHBldpS",
        "outputId": "55445ecd-bc43-4ba1-d687-edfb1d52b235"
      },
      "execution_count": 2,
      "outputs": [
        {
          "output_type": "stream",
          "name": "stdout",
          "text": [
            "Cloning into 'Firewall-AI'...\n",
            "remote: Enumerating objects: 214, done.\u001b[K\n",
            "remote: Counting objects: 100% (214/214), done.\u001b[K\n",
            "remote: Compressing objects: 100% (158/158), done.\u001b[K\n",
            "remote: Total 214 (delta 98), reused 164 (delta 49), pack-reused 0\u001b[K\n",
            "Receiving objects: 100% (214/214), 2.59 MiB | 6.26 MiB/s, done.\n",
            "Resolving deltas: 100% (98/98), done.\n"
          ]
        }
      ]
    },
    {
      "cell_type": "code",
      "source": [
        "!pip install -q -r Firewall-AI/requirements.txt"
      ],
      "metadata": {
        "colab": {
          "base_uri": "https://localhost:8080/"
        },
        "id": "YkNs3i9ElfM9",
        "outputId": "aba58890-082c-4321-a17a-789a579e30ef"
      },
      "execution_count": 3,
      "outputs": [
        {
          "output_type": "stream",
          "name": "stdout",
          "text": [
            "\u001b[2K     \u001b[90m━━━━━━━━━━━━━━━━━━━━━━━━━━━━━━━━━━━━━━━━\u001b[0m \u001b[32m58.3/58.3 kB\u001b[0m \u001b[31m1.4 MB/s\u001b[0m eta \u001b[36m0:00:00\u001b[0m\n",
            "\u001b[2K     \u001b[90m━━━━━━━━━━━━━━━━━━━━━━━━━━━━━━━━━━━━━━━━\u001b[0m \u001b[32m61.5/61.5 kB\u001b[0m \u001b[31m3.8 MB/s\u001b[0m eta \u001b[36m0:00:00\u001b[0m\n",
            "\u001b[2K   \u001b[90m━━━━━━━━━━━━━━━━━━━━━━━━━━━━━━━━━━━━━━━━\u001b[0m \u001b[32m158.3/158.3 kB\u001b[0m \u001b[31m6.8 MB/s\u001b[0m eta \u001b[36m0:00:00\u001b[0m\n",
            "\u001b[2K   \u001b[90m━━━━━━━━━━━━━━━━━━━━━━━━━━━━━━━━━━━━━━━━\u001b[0m \u001b[32m99.7/99.7 kB\u001b[0m \u001b[31m6.8 MB/s\u001b[0m eta \u001b[36m0:00:00\u001b[0m\n",
            "\u001b[2K   \u001b[90m━━━━━━━━━━━━━━━━━━━━━━━━━━━━━━━━━━━━━━━━\u001b[0m \u001b[32m56.8/56.8 kB\u001b[0m \u001b[31m3.9 MB/s\u001b[0m eta \u001b[36m0:00:00\u001b[0m\n",
            "\u001b[2K   \u001b[90m━━━━━━━━━━━━━━━━━━━━━━━━━━━━━━━━━━━━━━━━\u001b[0m \u001b[32m74.4/74.4 kB\u001b[0m \u001b[31m4.9 MB/s\u001b[0m eta \u001b[36m0:00:00\u001b[0m\n",
            "\u001b[2K   \u001b[90m━━━━━━━━━━━━━━━━━━━━━━━━━━━━━━━━━━━━━━━━\u001b[0m \u001b[32m297.1/297.1 MB\u001b[0m \u001b[31m5.4 MB/s\u001b[0m eta \u001b[36m0:00:00\u001b[0m\n",
            "\u001b[?25h\u001b[31mERROR: Cannot uninstall 'blinker'. It is a distutils installed project and thus we cannot accurately determine which files belong to it which would lead to only a partial uninstall.\u001b[0m\u001b[31m\n",
            "\u001b[0m"
          ]
        }
      ]
    },
    {
      "cell_type": "code",
      "source": [
        "!pip install -q pyngrok\n",
        "!pip install -q flask-ngrok"
      ],
      "metadata": {
        "colab": {
          "base_uri": "https://localhost:8080/"
        },
        "id": "Lg_DSXiKlhHK",
        "outputId": "f724bfb4-490d-4062-dd80-82be2a0348fd"
      },
      "execution_count": 4,
      "outputs": [
        {
          "output_type": "stream",
          "name": "stdout",
          "text": [
            "\u001b[33mWARNING: Running pip as the 'root' user can result in broken permissions and conflicting behaviour with the system package manager. It is recommended to use a virtual environment instead: https://pip.pypa.io/warnings/venv\u001b[0m\u001b[33m\n",
            "\u001b[0m\u001b[33mWARNING: Running pip as the 'root' user can result in broken permissions and conflicting behaviour with the system package manager. It is recommended to use a virtual environment instead: https://pip.pypa.io/warnings/venv\u001b[0m\u001b[33m\n",
            "\u001b[0m"
          ]
        }
      ]
    },
    {
      "cell_type": "code",
      "source": [
        "!sudo apt install libpcap0.8\n",
        "!sudo apt install tcpdump"
      ],
      "metadata": {
        "colab": {
          "base_uri": "https://localhost:8080/"
        },
        "id": "hqVmSPPVllWc",
        "outputId": "3f8f9db9-78c7-496c-ef46-6e2b645ee74e"
      },
      "execution_count": 5,
      "outputs": [
        {
          "output_type": "stream",
          "name": "stdout",
          "text": [
            "Reading package lists... Done\n",
            "Building dependency tree... Done\n",
            "Reading state information... Done\n",
            "The following NEW packages will be installed:\n",
            "  libpcap0.8\n",
            "0 upgraded, 1 newly installed, 0 to remove and 24 not upgraded.\n",
            "Need to get 145 kB of archives.\n",
            "After this operation, 366 kB of additional disk space will be used.\n",
            "Get:1 http://archive.ubuntu.com/ubuntu jammy/main amd64 libpcap0.8 amd64 1.10.1-4build1 [145 kB]\n",
            "Fetched 145 kB in 1s (107 kB/s)\n",
            "debconf: unable to initialize frontend: Dialog\n",
            "debconf: (No usable dialog-like program is installed, so the dialog based frontend cannot be used. at /usr/share/perl5/Debconf/FrontEnd/Dialog.pm line 78, <> line 1.)\n",
            "debconf: falling back to frontend: Readline\n",
            "debconf: unable to initialize frontend: Readline\n",
            "debconf: (This frontend requires a controlling tty.)\n",
            "debconf: falling back to frontend: Teletype\n",
            "dpkg-preconfigure: unable to re-open stdin: \n",
            "Selecting previously unselected package libpcap0.8:amd64.\n",
            "(Reading database ... 121654 files and directories currently installed.)\n",
            "Preparing to unpack .../libpcap0.8_1.10.1-4build1_amd64.deb ...\n",
            "Unpacking libpcap0.8:amd64 (1.10.1-4build1) ...\n",
            "Setting up libpcap0.8:amd64 (1.10.1-4build1) ...\n",
            "Processing triggers for man-db (2.10.2-1) ...\n",
            "Processing triggers for libc-bin (2.35-0ubuntu3.4) ...\n",
            "/sbin/ldconfig.real: /usr/local/lib/libtbbmalloc_proxy.so.2 is not a symbolic link\n",
            "\n",
            "/sbin/ldconfig.real: /usr/local/lib/libtbbbind.so.3 is not a symbolic link\n",
            "\n",
            "/sbin/ldconfig.real: /usr/local/lib/libtbbbind_2_0.so.3 is not a symbolic link\n",
            "\n",
            "/sbin/ldconfig.real: /usr/local/lib/libtbb.so.12 is not a symbolic link\n",
            "\n",
            "/sbin/ldconfig.real: /usr/local/lib/libtbbmalloc.so.2 is not a symbolic link\n",
            "\n",
            "/sbin/ldconfig.real: /usr/local/lib/libtbbbind_2_5.so.3 is not a symbolic link\n",
            "\n",
            "Reading package lists... Done\n",
            "Building dependency tree... Done\n",
            "Reading state information... Done\n",
            "Suggested packages:\n",
            "  apparmor\n",
            "The following NEW packages will be installed:\n",
            "  tcpdump\n",
            "0 upgraded, 1 newly installed, 0 to remove and 24 not upgraded.\n",
            "Need to get 501 kB of archives.\n",
            "After this operation, 1,407 kB of additional disk space will be used.\n",
            "Get:1 http://archive.ubuntu.com/ubuntu jammy-updates/main amd64 tcpdump amd64 4.99.1-3ubuntu0.1 [501 kB]\n",
            "Fetched 501 kB in 2s (331 kB/s)\n",
            "debconf: unable to initialize frontend: Dialog\n",
            "debconf: (No usable dialog-like program is installed, so the dialog based frontend cannot be used. at /usr/share/perl5/Debconf/FrontEnd/Dialog.pm line 78, <> line 1.)\n",
            "debconf: falling back to frontend: Readline\n",
            "debconf: unable to initialize frontend: Readline\n",
            "debconf: (This frontend requires a controlling tty.)\n",
            "debconf: falling back to frontend: Teletype\n",
            "dpkg-preconfigure: unable to re-open stdin: \n",
            "Selecting previously unselected package tcpdump.\n",
            "(Reading database ... 121663 files and directories currently installed.)\n",
            "Preparing to unpack .../tcpdump_4.99.1-3ubuntu0.1_amd64.deb ...\n",
            "Unpacking tcpdump (4.99.1-3ubuntu0.1) ...\n",
            "Setting up tcpdump (4.99.1-3ubuntu0.1) ...\n",
            "Processing triggers for man-db (2.10.2-1) ...\n"
          ]
        }
      ]
    },
    {
      "cell_type": "code",
      "source": [
        "%cd Firewall-AI"
      ],
      "metadata": {
        "colab": {
          "base_uri": "https://localhost:8080/"
        },
        "id": "UA_M1pyUloRj",
        "outputId": "7cb9eb75-72f1-47ff-e913-cf1fd97bd252"
      },
      "execution_count": 6,
      "outputs": [
        {
          "output_type": "stream",
          "name": "stdout",
          "text": [
            "/content/Firewall-AI\n"
          ]
        }
      ]
    },
    {
      "cell_type": "code",
      "source": [
        "%%writefile app.py\n",
        "from flask import Flask, redirect, url_for, request, jsonify, send_from_directory\n",
        "from flask_ngrok import run_with_ngrok\n",
        "\n",
        "import requests\n",
        "import json\n",
        "\n",
        "from pyflowmeter import sniffer\n",
        "\n",
        "from prediction import FirewallModel\n",
        "\n",
        "TYPES_DICT = {\n",
        "        'tcp.synflood': '/content/Firewall-AI/test_files/pkt.TCP.synflood.spoofed.pcap',\n",
        "        'udp.null': 'test_files/pkt.UDP.null.pcapng',\n",
        "        'Real time traffic': 'Real time traffic',\n",
        "        'TCP.DOMINATE': 'test_files/pkt.TCP.DOMINATE.syn.ecn.cwr.pcapng',\n",
        "        'slow_http': 'test_files/http_slowloris.pcap',\n",
        "        'UDP.fragmented': 'test_files/pkt.UDP.fragmented.pcap',\n",
        "        'hulk': '/content/Firewall-AI/test_files/hulk.pcap',\n",
        "        'ICMP.largeempt': 'test_files/ICMP.largeempty.pcap'\n",
        "    }\n",
        "\n",
        "model = FirewallModel()\n",
        "traffic_sniffer = None\n",
        "sniffer_created = False\n",
        "app = Flask(__name__)\n",
        "run_with_ngrok(app)\n",
        "\n",
        "predicted_data = []\n",
        "\n",
        "# Serve static files from the dist folder\n",
        "@app.route('/assets/<path:filename>')\n",
        "def static_files(filename):\n",
        "    return send_from_directory('./client/dist/assets', filename)\n",
        "\n",
        "# Handle 404 errors\n",
        "@app.errorhandler(404)\n",
        "def not_found(e):\n",
        "    return redirect(url_for('dashboard'))\n",
        "\n",
        "@app.route('/dashboard')\n",
        "def dashboard():\n",
        "    return send_from_directory('./client/dist', 'index.html')\n",
        "\n",
        "@app.route('/traffic-analysis')\n",
        "def traffic_analysis():\n",
        "    return send_from_directory('./client/dist', 'index.html')\n",
        "\n",
        "@app.route(\"/send_traffic\", methods=[\"POST\"])\n",
        "def post_data():\n",
        "    if request.is_json:\n",
        "        data = request.get_json()\n",
        "        # print(\"Received new data:\", data)\n",
        "        confidences, predcted_classes = model.predict(data[\"flows\"])\n",
        "        for (flow, confidence, predcted_class) in zip(\n",
        "            data[\"flows\"], confidences, predcted_classes\n",
        "        ):\n",
        "            if predcted_class != \"\":  # BENIGN\n",
        "                # flow = data['flows'][i]\n",
        "                predicted_data.append(\n",
        "                    {\n",
        "                        \"type\": predcted_class,\n",
        "                        \"src_ip\": f'{flow[\"src_ip\"]}:{flow[\"src_port\"]}',\n",
        "                        \"dst_ip\": f'{flow[\"dst_ip\"]}:{flow[\"dst_port\"]}',\n",
        "                        \"confidence\": f\"{confidence:.2%}\",\n",
        "                        \"timestamp\": flow[\"timestamp\"],\n",
        "                    }\n",
        "                )\n",
        "\n",
        "        print(confidences, predcted_classes)\n",
        "        return jsonify({\"message\": \"Data received successfully\"}), 200\n",
        "    else:\n",
        "        return jsonify({\"error\": \"Invalid JSON data in the request\"}), 400\n",
        "\n",
        "\n",
        "@app.route(\"/get_data\", methods=[\"GET\"])\n",
        "def get_data():\n",
        "    return jsonify(predicted_data)\n",
        "\n",
        "@app.route('/start_sniffer', methods=['POST'])\n",
        "def start_sniffer():\n",
        "    if request.is_json:\n",
        "        data = request.get_json()\n",
        "        test_type = data['file']\n",
        "        test_file = TYPES_DICT[test_type]\n",
        "        reload_sniffer(test_file)\n",
        "        return jsonify({\"message\": \"Data received successfully\"}), 200\n",
        "    else:\n",
        "        return jsonify({\"error\": \"Invalid JSON data in the request\"}), 400\n",
        "\n",
        "def reload_sniffer(test_file):\n",
        "    print(test_file)\n",
        "    global traffic_sniffer\n",
        "    global sniffer_created\n",
        "    global predicted_data\n",
        "    if sniffer_created:\n",
        "        try:\n",
        "            traffic_sniffer.stop()\n",
        "            traffic_sniffer.join()\n",
        "        except:\n",
        "            pass\n",
        "    else:\n",
        "        sniffer_created = True\n",
        "    tunnel_url = requests.get(\"http://localhost:4040/api/tunnels\").text\n",
        "    j = json.loads(tunnel_url)\n",
        "    tunnel_url = j['tunnels'][0]['public_url']\n",
        "    print(f'App link:\\n{tunnel_url}/dashboard')\n",
        "    predicted_data = []\n",
        "    if test_file == 'Real time traffic':\n",
        "        traffic_sniffer = sniffer.create_sniffer(\n",
        "            input_interface=None,\n",
        "            server_endpoint=f'{tunnel_url}/send_traffic',\n",
        "        )\n",
        "    else:\n",
        "        traffic_sniffer = sniffer.create_sniffer(\n",
        "            input_file=test_file,\n",
        "            server_endpoint=f'{tunnel_url}/send_traffic',\n",
        "        )\n",
        "    traffic_sniffer.start()\n",
        "\n",
        "if __name__ == '__main__':\n",
        "    app.run()"
      ],
      "metadata": {
        "colab": {
          "base_uri": "https://localhost:8080/"
        },
        "id": "XrxfUq8BlqNP",
        "outputId": "ccec784d-a80a-40fd-abb9-0ff4c63fd895"
      },
      "execution_count": 7,
      "outputs": [
        {
          "output_type": "stream",
          "name": "stdout",
          "text": [
            "Overwriting app.py\n"
          ]
        }
      ]
    },
    {
      "cell_type": "markdown",
      "source": [
        "#Running the server"
      ],
      "metadata": {
        "id": "2vOSAlZtn3FZ"
      }
    },
    {
      "cell_type": "code",
      "source": [
        "# @title Setting kgrok token\n",
        "from pyngrok import ngrok\n",
        "import subprocess\n",
        "import os\n",
        "\n",
        "\n",
        "ngrok_token = \"\" # @param {type:\"string\"}\n",
        "ngrok.set_auth_token(ngrok_token)\n",
        "\n",
        "public_url = ngrok.connect(5000, 'http')\n",
        "\n",
        "os.chdir('/content/Firewall-AI')\n",
        "server_process = subprocess.Popen(['python', 'app.py'], stdout=subprocess.PIPE, stderr=subprocess.STDOUT, text=True)\n",
        "\n",
        "print('Public URL:', public_url)\n",
        "print(f'Dashboard app link: {public_url.public_url}/dashboard')\n",
        "\n",
        "for line in server_process.stdout:\n",
        "    print(line, end='')"
      ],
      "metadata": {
        "cellView": "form",
        "id": "ORDQiaLxlrPe"
      },
      "execution_count": null,
      "outputs": []
    },
    {
      "cell_type": "code",
      "source": [
        "ngrok.disconnect('https://bda4-35-221-226-143.ngrok-free.app/')"
      ],
      "metadata": {
        "id": "h5T2N6c_lrM7"
      },
      "execution_count": 11,
      "outputs": []
    },
    {
      "cell_type": "code",
      "source": [],
      "metadata": {
        "id": "FFWcJNixlqzC"
      },
      "execution_count": null,
      "outputs": []
    }
  ]
}