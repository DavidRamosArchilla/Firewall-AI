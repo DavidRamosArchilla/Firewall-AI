{
  "nbformat": 4,
  "nbformat_minor": 0,
  "metadata": {
    "colab": {
      "provenance": [],
      "collapsed_sections": [
        "PkM_CtHmnw9C"
      ],
      "authorship_tag": "ABX9TyOjmeINJvsSgCwmLhL/126x",
      "include_colab_link": true
    },
    "kernelspec": {
      "name": "python3",
      "display_name": "Python 3"
    },
    "language_info": {
      "name": "python"
    }
  },
  "cells": [
    {
      "cell_type": "markdown",
      "metadata": {
        "id": "view-in-github",
        "colab_type": "text"
      },
      "source": [
        "<a href=\"https://colab.research.google.com/github/DavidRamosArchilla/Firewall-AI/blob/main/server_firewall_ai.ipynb\" target=\"_parent\"><img src=\"https://colab.research.google.com/assets/colab-badge.svg\" alt=\"Open In Colab\"/></a>"
      ]
    },
    {
      "cell_type": "markdown",
      "source": [
        "#Installing dependencies"
      ],
      "metadata": {
        "id": "PkM_CtHmnw9C"
      }
    },
    {
      "cell_type": "code",
      "execution_count": 1,
      "metadata": {
        "colab": {
          "base_uri": "https://localhost:8080/"
        },
        "id": "cPqL3PSmlWCQ",
        "outputId": "095db3eb-adb9-46ce-90eb-165d127d0c56"
      },
      "outputs": [
        {
          "output_type": "stream",
          "name": "stdout",
          "text": [
            "\u001b[2K     \u001b[90m━━━━━━━━━━━━━━━━━━━━━━━━━━━━━━━━━━━━━━━━\u001b[0m \u001b[32m2.1/2.1 MB\u001b[0m \u001b[31m7.4 MB/s\u001b[0m eta \u001b[36m0:00:00\u001b[0m\n",
            "\u001b[2K     \u001b[90m━━━━━━━━━━━━━━━━━━━━━━━━━━━━━━━━━━━━━━━━\u001b[0m \u001b[32m61.2/61.2 kB\u001b[0m \u001b[31m828.0 kB/s\u001b[0m eta \u001b[36m0:00:00\u001b[0m\n",
            "\u001b[2K     \u001b[90m━━━━━━━━━━━━━━━━━━━━━━━━━━━━━━━━━━━━━━━━\u001b[0m \u001b[32m60.4/60.4 kB\u001b[0m \u001b[31m622.1 kB/s\u001b[0m eta \u001b[36m0:00:00\u001b[0m\n",
            "\u001b[2K     \u001b[90m━━━━━━━━━━━━━━━━━━━━━━━━━━━━━━━━━━━━━━━━\u001b[0m \u001b[32m1.3/1.3 MB\u001b[0m \u001b[31m16.8 MB/s\u001b[0m eta \u001b[36m0:00:00\u001b[0m\n",
            "\u001b[?25h  Preparing metadata (setup.py) ... \u001b[?25l\u001b[?25hdone\n",
            "\u001b[2K   \u001b[90m━━━━━━━━━━━━━━━━━━━━━━━━━━━━━━━━━━━━━━━━\u001b[0m \u001b[32m18.2/18.2 MB\u001b[0m \u001b[31m21.6 MB/s\u001b[0m eta \u001b[36m0:00:00\u001b[0m\n",
            "\u001b[2K   \u001b[90m━━━━━━━━━━━━━━━━━━━━━━━━━━━━━━━━━━━━━━━━\u001b[0m \u001b[32m36.4/36.4 MB\u001b[0m \u001b[31m16.2 MB/s\u001b[0m eta \u001b[36m0:00:00\u001b[0m\n",
            "\u001b[?25h  Building wheel for scapy (setup.py) ... \u001b[?25l\u001b[?25hdone\n",
            "\u001b[31mERROR: pip's dependency resolver does not currently take into account all the packages that are installed. This behaviour is the source of the following dependency conflicts.\n",
            "lida 0.0.10 requires fastapi, which is not installed.\n",
            "lida 0.0.10 requires kaleido, which is not installed.\n",
            "lida 0.0.10 requires python-multipart, which is not installed.\n",
            "lida 0.0.10 requires uvicorn, which is not installed.\u001b[0m\u001b[31m\n",
            "\u001b[0m\u001b[33mWARNING: Running pip as the 'root' user can result in broken permissions and conflicting behaviour with the system package manager. It is recommended to use a virtual environment instead: https://pip.pypa.io/warnings/venv\u001b[0m\u001b[33m\n",
            "\u001b[0m"
          ]
        }
      ],
      "source": [
        "!pip install -q --upgrade pip\n",
        "!pip install -q pyflowmeter"
      ]
    },
    {
      "cell_type": "code",
      "source": [
        "!git clone https://github.com/DavidRamosArchilla/Firewall-AI.git"
      ],
      "metadata": {
        "colab": {
          "base_uri": "https://localhost:8080/"
        },
        "id": "O2rrCZHBldpS",
        "outputId": "3ca05cad-0d2f-48d8-c95e-3c697ffd376d"
      },
      "execution_count": 2,
      "outputs": [
        {
          "output_type": "stream",
          "name": "stdout",
          "text": [
            "Cloning into 'Firewall-AI'...\n",
            "remote: Enumerating objects: 263, done.\u001b[K\n",
            "remote: Counting objects: 100% (263/263), done.\u001b[K\n",
            "remote: Compressing objects: 100% (187/187), done.\u001b[K\n",
            "remote: Total 263 (delta 129), reused 199 (delta 69), pack-reused 0\u001b[K\n",
            "Receiving objects: 100% (263/263), 25.75 MiB | 15.69 MiB/s, done.\n",
            "Resolving deltas: 100% (129/129), done.\n"
          ]
        }
      ]
    },
    {
      "cell_type": "code",
      "source": [
        "!pip install -q -r Firewall-AI/requirements.txt"
      ],
      "metadata": {
        "colab": {
          "base_uri": "https://localhost:8080/"
        },
        "id": "YkNs3i9ElfM9",
        "outputId": "087ad46e-e1d6-4b0a-9c82-27b9b4a5a606"
      },
      "execution_count": 3,
      "outputs": [
        {
          "output_type": "stream",
          "name": "stdout",
          "text": [
            "\u001b[?25l     \u001b[90m━━━━━━━━━━━━━━━━━━━━━━━━━━━━━━━━━━━━━━━━\u001b[0m \u001b[32m0.0/58.3 kB\u001b[0m \u001b[31m?\u001b[0m eta \u001b[36m-:--:--\u001b[0m\r\u001b[2K     \u001b[90m━━━━━━━━━━━━━━━━━━━━━━━━━━━━━━━━━━━━━━━━\u001b[0m \u001b[32m58.3/58.3 kB\u001b[0m \u001b[31m1.6 MB/s\u001b[0m eta \u001b[36m0:00:00\u001b[0m\n",
            "\u001b[2K     \u001b[90m━━━━━━━━━━━━━━━━━━━━━━━━━━━━━━━━━━━━━━━━\u001b[0m \u001b[32m61.5/61.5 kB\u001b[0m \u001b[31m2.3 MB/s\u001b[0m eta \u001b[36m0:00:00\u001b[0m\n",
            "\u001b[2K   \u001b[90m━━━━━━━━━━━━━━━━━━━━━━━━━━━━━━━━━━━━━━━━\u001b[0m \u001b[32m158.3/158.3 kB\u001b[0m \u001b[31m4.0 MB/s\u001b[0m eta \u001b[36m0:00:00\u001b[0m\n",
            "\u001b[2K   \u001b[90m━━━━━━━━━━━━━━━━━━━━━━━━━━━━━━━━━━━━━━━━\u001b[0m \u001b[32m99.7/99.7 kB\u001b[0m \u001b[31m2.8 MB/s\u001b[0m eta \u001b[36m0:00:00\u001b[0m\n",
            "\u001b[2K   \u001b[90m━━━━━━━━━━━━━━━━━━━━━━━━━━━━━━━━━━━━━━━━\u001b[0m \u001b[32m56.8/56.8 kB\u001b[0m \u001b[31m2.9 MB/s\u001b[0m eta \u001b[36m0:00:00\u001b[0m\n",
            "\u001b[2K   \u001b[90m━━━━━━━━━━━━━━━━━━━━━━━━━━━━━━━━━━━━━━━━\u001b[0m \u001b[32m74.4/74.4 kB\u001b[0m \u001b[31m2.7 MB/s\u001b[0m eta \u001b[36m0:00:00\u001b[0m\n",
            "\u001b[2K   \u001b[91m━━━━━━━━\u001b[0m\u001b[90m╺\u001b[0m\u001b[90m━━━━━━━━━━━━━━━━━━━━━━━━━━━━━━━\u001b[0m \u001b[32m62.9/297.1 MB\u001b[0m \u001b[31m7.5 MB/s\u001b[0m eta \u001b[36m0:00:32\u001b[0m\n",
            "\u001b[?25h\u001b[31mERROR: Exception:\n",
            "Traceback (most recent call last):\n",
            "  File \"/usr/local/lib/python3.10/dist-packages/pip/_vendor/urllib3/response.py\", line 438, in _error_catcher\n",
            "    yield\n",
            "  File \"/usr/local/lib/python3.10/dist-packages/pip/_vendor/urllib3/response.py\", line 561, in read\n",
            "    data = self._fp_read(amt) if not fp_closed else b\"\"\n",
            "  File \"/usr/local/lib/python3.10/dist-packages/pip/_vendor/urllib3/response.py\", line 527, in _fp_read\n",
            "    return self._fp.read(amt) if amt is not None else self._fp.read()\n",
            "  File \"/usr/local/lib/python3.10/dist-packages/pip/_vendor/cachecontrol/filewrapper.py\", line 98, in read\n",
            "    data: bytes = self.__fp.read(amt)\n",
            "  File \"/usr/lib/python3.10/http/client.py\", line 466, in read\n",
            "    s = self.fp.read(amt)\n",
            "  File \"/usr/lib/python3.10/socket.py\", line 705, in readinto\n",
            "    return self._sock.recv_into(b)\n",
            "  File \"/usr/lib/python3.10/ssl.py\", line 1303, in recv_into\n",
            "    return self.read(nbytes, buffer)\n",
            "  File \"/usr/lib/python3.10/ssl.py\", line 1159, in read\n",
            "    return self._sslobj.read(len, buffer)\n",
            "TimeoutError: The read operation timed out\n",
            "\n",
            "During handling of the above exception, another exception occurred:\n",
            "\n",
            "Traceback (most recent call last):\n",
            "  File \"/usr/local/lib/python3.10/dist-packages/pip/_internal/cli/base_command.py\", line 180, in exc_logging_wrapper\n",
            "    status = run_func(*args)\n",
            "  File \"/usr/local/lib/python3.10/dist-packages/pip/_internal/cli/req_command.py\", line 245, in wrapper\n",
            "    return func(self, options, args)\n",
            "  File \"/usr/local/lib/python3.10/dist-packages/pip/_internal/commands/install.py\", line 377, in run\n",
            "    requirement_set = resolver.resolve(\n",
            "  File \"/usr/local/lib/python3.10/dist-packages/pip/_internal/resolution/resolvelib/resolver.py\", line 179, in resolve\n",
            "    self.factory.preparer.prepare_linked_requirements_more(reqs)\n",
            "  File \"/usr/local/lib/python3.10/dist-packages/pip/_internal/operations/prepare.py\", line 552, in prepare_linked_requirements_more\n",
            "    self._complete_partial_requirements(\n",
            "  File \"/usr/local/lib/python3.10/dist-packages/pip/_internal/operations/prepare.py\", line 467, in _complete_partial_requirements\n",
            "    for link, (filepath, _) in batch_download:\n",
            "  File \"/usr/local/lib/python3.10/dist-packages/pip/_internal/network/download.py\", line 183, in __call__\n",
            "    for chunk in chunks:\n",
            "  File \"/usr/local/lib/python3.10/dist-packages/pip/_internal/cli/progress_bars.py\", line 53, in _rich_progress_bar\n",
            "    for chunk in iterable:\n",
            "  File \"/usr/local/lib/python3.10/dist-packages/pip/_internal/network/utils.py\", line 63, in response_chunks\n",
            "    for chunk in response.raw.stream(\n",
            "  File \"/usr/local/lib/python3.10/dist-packages/pip/_vendor/urllib3/response.py\", line 622, in stream\n",
            "    data = self.read(amt=amt, decode_content=decode_content)\n",
            "  File \"/usr/local/lib/python3.10/dist-packages/pip/_vendor/urllib3/response.py\", line 560, in read\n",
            "    with self._error_catcher():\n",
            "  File \"/usr/lib/python3.10/contextlib.py\", line 153, in __exit__\n",
            "    self.gen.throw(typ, value, traceback)\n",
            "  File \"/usr/local/lib/python3.10/dist-packages/pip/_vendor/urllib3/response.py\", line 443, in _error_catcher\n",
            "    raise ReadTimeoutError(self._pool, None, \"Read timed out.\")\n",
            "pip._vendor.urllib3.exceptions.ReadTimeoutError: HTTPSConnectionPool(host='files.pythonhosted.org', port=443): Read timed out.\u001b[0m\u001b[31m\n",
            "\u001b[0m"
          ]
        }
      ]
    },
    {
      "cell_type": "code",
      "source": [
        "!pip install -q pyngrok\n",
        "!pip install -q flask-ngrok"
      ],
      "metadata": {
        "colab": {
          "base_uri": "https://localhost:8080/"
        },
        "id": "Lg_DSXiKlhHK",
        "outputId": "746687b5-9b29-4dec-e664-21b6e104314f"
      },
      "execution_count": 4,
      "outputs": [
        {
          "output_type": "stream",
          "name": "stdout",
          "text": [
            "\u001b[33mWARNING: Running pip as the 'root' user can result in broken permissions and conflicting behaviour with the system package manager. It is recommended to use a virtual environment instead: https://pip.pypa.io/warnings/venv\u001b[0m\u001b[33m\n",
            "\u001b[0m\u001b[33mWARNING: Running pip as the 'root' user can result in broken permissions and conflicting behaviour with the system package manager. It is recommended to use a virtual environment instead: https://pip.pypa.io/warnings/venv\u001b[0m\u001b[33m\n",
            "\u001b[0m"
          ]
        }
      ]
    },
    {
      "cell_type": "code",
      "source": [
        "!sudo apt install libpcap0.8\n",
        "!sudo apt install tcpdump"
      ],
      "metadata": {
        "colab": {
          "base_uri": "https://localhost:8080/"
        },
        "id": "hqVmSPPVllWc",
        "outputId": "1ce24c2e-104d-4606-e64e-85ebec8a1794"
      },
      "execution_count": 5,
      "outputs": [
        {
          "output_type": "stream",
          "name": "stdout",
          "text": [
            "Reading package lists... Done\n",
            "Building dependency tree... Done\n",
            "Reading state information... Done\n",
            "The following NEW packages will be installed:\n",
            "  libpcap0.8\n",
            "0 upgraded, 1 newly installed, 0 to remove and 24 not upgraded.\n",
            "Need to get 145 kB of archives.\n",
            "After this operation, 366 kB of additional disk space will be used.\n",
            "Get:1 http://archive.ubuntu.com/ubuntu jammy/main amd64 libpcap0.8 amd64 1.10.1-4build1 [145 kB]\n",
            "Fetched 145 kB in 1s (105 kB/s)\n",
            "debconf: unable to initialize frontend: Dialog\n",
            "debconf: (No usable dialog-like program is installed, so the dialog based frontend cannot be used. at /usr/share/perl5/Debconf/FrontEnd/Dialog.pm line 78, <> line 1.)\n",
            "debconf: falling back to frontend: Readline\n",
            "debconf: unable to initialize frontend: Readline\n",
            "debconf: (This frontend requires a controlling tty.)\n",
            "debconf: falling back to frontend: Teletype\n",
            "dpkg-preconfigure: unable to re-open stdin: \n",
            "Selecting previously unselected package libpcap0.8:amd64.\n",
            "(Reading database ... 121654 files and directories currently installed.)\n",
            "Preparing to unpack .../libpcap0.8_1.10.1-4build1_amd64.deb ...\n",
            "Unpacking libpcap0.8:amd64 (1.10.1-4build1) ...\n",
            "Setting up libpcap0.8:amd64 (1.10.1-4build1) ...\n",
            "Processing triggers for man-db (2.10.2-1) ...\n",
            "Processing triggers for libc-bin (2.35-0ubuntu3.4) ...\n",
            "/sbin/ldconfig.real: /usr/local/lib/libtbbmalloc.so.2 is not a symbolic link\n",
            "\n",
            "/sbin/ldconfig.real: /usr/local/lib/libtbbmalloc_proxy.so.2 is not a symbolic link\n",
            "\n",
            "/sbin/ldconfig.real: /usr/local/lib/libtbbbind_2_0.so.3 is not a symbolic link\n",
            "\n",
            "/sbin/ldconfig.real: /usr/local/lib/libtbbbind_2_5.so.3 is not a symbolic link\n",
            "\n",
            "/sbin/ldconfig.real: /usr/local/lib/libtbbbind.so.3 is not a symbolic link\n",
            "\n",
            "/sbin/ldconfig.real: /usr/local/lib/libtbb.so.12 is not a symbolic link\n",
            "\n",
            "Reading package lists... Done\n",
            "Building dependency tree... Done\n",
            "Reading state information... Done\n",
            "Suggested packages:\n",
            "  apparmor\n",
            "The following NEW packages will be installed:\n",
            "  tcpdump\n",
            "0 upgraded, 1 newly installed, 0 to remove and 24 not upgraded.\n",
            "Need to get 501 kB of archives.\n",
            "After this operation, 1,407 kB of additional disk space will be used.\n",
            "Get:1 http://archive.ubuntu.com/ubuntu jammy-updates/main amd64 tcpdump amd64 4.99.1-3ubuntu0.1 [501 kB]\n",
            "Fetched 501 kB in 2s (304 kB/s)\n",
            "debconf: unable to initialize frontend: Dialog\n",
            "debconf: (No usable dialog-like program is installed, so the dialog based frontend cannot be used. at /usr/share/perl5/Debconf/FrontEnd/Dialog.pm line 78, <> line 1.)\n",
            "debconf: falling back to frontend: Readline\n",
            "debconf: unable to initialize frontend: Readline\n",
            "debconf: (This frontend requires a controlling tty.)\n",
            "debconf: falling back to frontend: Teletype\n",
            "dpkg-preconfigure: unable to re-open stdin: \n",
            "Selecting previously unselected package tcpdump.\n",
            "(Reading database ... 121663 files and directories currently installed.)\n",
            "Preparing to unpack .../tcpdump_4.99.1-3ubuntu0.1_amd64.deb ...\n",
            "Unpacking tcpdump (4.99.1-3ubuntu0.1) ...\n",
            "Setting up tcpdump (4.99.1-3ubuntu0.1) ...\n",
            "Processing triggers for man-db (2.10.2-1) ...\n"
          ]
        }
      ]
    },
    {
      "cell_type": "code",
      "source": [
        "%cd Firewall-AI"
      ],
      "metadata": {
        "colab": {
          "base_uri": "https://localhost:8080/"
        },
        "id": "UA_M1pyUloRj",
        "outputId": "e31823da-8cc8-4269-ebee-8e2c5fc6f537"
      },
      "execution_count": 6,
      "outputs": [
        {
          "output_type": "stream",
          "name": "stdout",
          "text": [
            "/content/Firewall-AI\n"
          ]
        }
      ]
    },
    {
      "cell_type": "code",
      "source": [
        "%%writefile app.py\n",
        "from flask import Flask, redirect, url_for, request, jsonify, send_from_directory\n",
        "from flask_ngrok import run_with_ngrok\n",
        "\n",
        "import requests\n",
        "import json\n",
        "\n",
        "from pyflowmeter import sniffer\n",
        "\n",
        "from prediction import FirewallModel\n",
        "\n",
        "TYPES_DICT = {\n",
        "        'tcp.synflood': '/content/Firewall-AI/test_files/pkt.TCP.synflood.spoofed.pcap',\n",
        "        'udp.null': 'test_files/pkt.UDP.null.pcapng',\n",
        "        'Real time traffic': 'Real time traffic',\n",
        "        'TCP.DOMINATE': 'test_files/pkt.TCP.DOMINATE.syn.ecn.cwr.pcapng',\n",
        "        'slow_http': 'test_files/http_slowloris.pcap',\n",
        "        'UDP.fragmented': 'test_files/pkt.UDP.fragmented.pcap',\n",
        "        'hulk': '/content/Firewall-AI/test_files/hulk.pcap',\n",
        "        'ICMP.largeempt': 'test_files/ICMP.largeempty.pcap'\n",
        "    }\n",
        "\n",
        "model = FirewallModel()\n",
        "traffic_sniffer = None\n",
        "sniffer_created = False\n",
        "app = Flask(__name__)\n",
        "run_with_ngrok(app)\n",
        "\n",
        "predicted_data = []\n",
        "\n",
        "# Serve static files from the dist folder\n",
        "@app.route('/assets/<path:filename>')\n",
        "def static_files(filename):\n",
        "    return send_from_directory('./client/dist/assets', filename)\n",
        "\n",
        "# Handle 404 errors\n",
        "@app.errorhandler(404)\n",
        "def not_found(e):\n",
        "    return redirect(url_for('dashboard'))\n",
        "\n",
        "@app.route('/dashboard')\n",
        "def dashboard():\n",
        "    return send_from_directory('./client/dist', 'index.html')\n",
        "\n",
        "@app.route('/traffic-analysis')\n",
        "def traffic_analysis():\n",
        "    return send_from_directory('./client/dist', 'index.html')\n",
        "\n",
        "@app.route(\"/send_traffic\", methods=[\"POST\"])\n",
        "def post_data():\n",
        "    if request.is_json:\n",
        "        data = request.get_json()\n",
        "        # print(\"Received new data:\", data)\n",
        "        confidences, predcted_classes = model.predict(data[\"flows\"])\n",
        "        for (flow, confidence, predcted_class) in zip(\n",
        "            data[\"flows\"], confidences, predcted_classes\n",
        "        ):\n",
        "            if predcted_class != \"\":  # BENIGN\n",
        "                # flow = data['flows'][i]\n",
        "                predicted_data.append(\n",
        "                    {\n",
        "                        \"type\": predcted_class,\n",
        "                        \"src_ip\": f'{flow[\"src_ip\"]}:{flow[\"src_port\"]}',\n",
        "                        \"dst_ip\": f'{flow[\"dst_ip\"]}:{flow[\"dst_port\"]}',\n",
        "                        \"confidence\": f\"{confidence:.2%}\",\n",
        "                        \"timestamp\": flow[\"timestamp\"],\n",
        "                    }\n",
        "                )\n",
        "\n",
        "        print(confidences, predcted_classes)\n",
        "        return jsonify({\"message\": \"Data received successfully\"}), 200\n",
        "    else:\n",
        "        return jsonify({\"error\": \"Invalid JSON data in the request\"}), 400\n",
        "\n",
        "\n",
        "@app.route(\"/get_data\", methods=[\"GET\"])\n",
        "def get_data():\n",
        "    return jsonify(predicted_data)\n",
        "\n",
        "@app.route('/start_sniffer', methods=['POST'])\n",
        "def start_sniffer():\n",
        "    if request.is_json:\n",
        "        data = request.get_json()\n",
        "        test_type = data['file']\n",
        "        test_file = TYPES_DICT[test_type]\n",
        "        reload_sniffer(test_file)\n",
        "        return jsonify({\"message\": \"Data received successfully\"}), 200\n",
        "    else:\n",
        "        return jsonify({\"error\": \"Invalid JSON data in the request\"}), 400\n",
        "\n",
        "def reload_sniffer(test_file):\n",
        "    print(test_file)\n",
        "    global traffic_sniffer\n",
        "    global sniffer_created\n",
        "    global predicted_data\n",
        "    if sniffer_created:\n",
        "        try:\n",
        "            traffic_sniffer.stop()\n",
        "            traffic_sniffer.join()\n",
        "        except:\n",
        "            pass\n",
        "    else:\n",
        "        sniffer_created = True\n",
        "    tunnel_url = requests.get(\"http://localhost:4040/api/tunnels\").text\n",
        "    j = json.loads(tunnel_url)\n",
        "    tunnel_url = j['tunnels'][0]['public_url']\n",
        "    print(f'App link:\\n{tunnel_url}/dashboard')\n",
        "    predicted_data = []\n",
        "    if test_file == 'Real time traffic':\n",
        "        traffic_sniffer = sniffer.create_sniffer(\n",
        "            input_interface=None,\n",
        "            server_endpoint=f'{tunnel_url}/send_traffic',\n",
        "        )\n",
        "    else:\n",
        "        traffic_sniffer = sniffer.create_sniffer(\n",
        "            input_file=test_file,\n",
        "            server_endpoint=f'{tunnel_url}/send_traffic',\n",
        "        )\n",
        "    traffic_sniffer.start()\n",
        "\n",
        "if __name__ == '__main__':\n",
        "    app.run()"
      ],
      "metadata": {
        "colab": {
          "base_uri": "https://localhost:8080/"
        },
        "id": "XrxfUq8BlqNP",
        "outputId": "afaddafd-fb46-4b45-8b5f-6a8a5b7a900c"
      },
      "execution_count": 7,
      "outputs": [
        {
          "output_type": "stream",
          "name": "stdout",
          "text": [
            "Overwriting app.py\n"
          ]
        }
      ]
    },
    {
      "cell_type": "markdown",
      "source": [
        "#Running the server"
      ],
      "metadata": {
        "id": "2vOSAlZtn3FZ"
      }
    },
    {
      "cell_type": "code",
      "source": [
        "# @title Setting kgrok token\n",
        "from pyngrok import ngrok\n",
        "import subprocess\n",
        "import os\n",
        "\n",
        "\n",
        "ngrok_token = \"\" # @param {type:\"string\"}\n",
        "show_server_logs = False # @param {type:\"boolean\"}\n",
        "\n",
        "ngrok.set_auth_token(ngrok_token)\n",
        "\n",
        "public_url = ngrok.connect(5000, 'http')\n",
        "\n",
        "os.chdir('/content/Firewall-AI')\n",
        "\n",
        "if show_server_logs:\n",
        "    server_process = subprocess.Popen(['python', 'app.py'], stdout=subprocess.PIPE, stderr=subprocess.STDOUT, text=True)\n",
        "\n",
        "else:\n",
        "    subprocess.Popen(['python', 'app.py'])\n",
        "\n",
        "print('Public URL:', public_url)\n",
        "print(f'Dashboard app link: {public_url.public_url}/dashboard')\n",
        "\n",
        "if show_server_logs:\n",
        "    for line in server_process.stdout:\n",
        "        print(line, end='')"
      ],
      "metadata": {
        "cellView": "form",
        "id": "ORDQiaLxlrPe"
      },
      "execution_count": null,
      "outputs": []
    },
    {
      "cell_type": "code",
      "source": [
        "# @title Disconnecting the tunnel\n",
        "\n",
        "ngrok.disconnect(public_url.public_url)"
      ],
      "metadata": {
        "id": "h5T2N6c_lrM7",
        "cellView": "form"
      },
      "execution_count": null,
      "outputs": []
    },
    {
      "cell_type": "code",
      "source": [],
      "metadata": {
        "id": "FFWcJNixlqzC"
      },
      "execution_count": null,
      "outputs": []
    }
  ]
}